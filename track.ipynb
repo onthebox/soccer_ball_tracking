{
 "cells": [
  {
   "cell_type": "markdown",
   "id": "167be610-ab2e-46ba-83e1-868fe8a80da9",
   "metadata": {},
   "source": [
    "# Трекинг мяча"
   ]
  },
  {
   "cell_type": "markdown",
   "id": "257f226f-899a-419d-9ce4-191ef184751a",
   "metadata": {},
   "source": [
    "Имея модель детекции футбольного мяча, попробуем реализовать алгоритм его трекинга и отрисовку траектории. Основываться будем только на результатах детекции модели."
   ]
  },
  {
   "cell_type": "markdown",
   "id": "b2686a42-0271-4906-8816-088696b7bb3e",
   "metadata": {},
   "source": [
    "Загрузим модель и определим нужные пути"
   ]
  },
  {
   "cell_type": "code",
   "execution_count": 1,
   "id": "ff8ef748-6414-4def-bf43-1ba375561a6b",
   "metadata": {},
   "outputs": [],
   "source": [
    "import os\n",
    "from glob import glob\n",
    "import torch\n",
    "from ultralytics import YOLO\n",
    "import cv2\n",
    "import numpy as np\n",
    "from scipy.interpolate import NearestNDInterpolator\n",
    "from typing import List, Any\n",
    "\n",
    "from tqdm import tqdm"
   ]
  },
  {
   "cell_type": "code",
   "execution_count": 2,
   "id": "def15b24-198c-435c-92c2-30a4758fb159",
   "metadata": {},
   "outputs": [],
   "source": [
    "sc_raw_ds_path = 'data/SoccerNetGS'\n",
    "\n",
    "challenge_pics_paths = sorted(glob(f'{sc_raw_ds_path}/challenge/SNMOT-021/img1/*'))"
   ]
  },
  {
   "cell_type": "code",
   "execution_count": 3,
   "id": "2c105da5-f195-4464-b7d7-0cbcd2edbcfe",
   "metadata": {},
   "outputs": [],
   "source": [
    "best_model_path = 'yolov8n_project/tune_run_22/weights/best.pt'"
   ]
  },
  {
   "cell_type": "code",
   "execution_count": 4,
   "id": "8bb73984-eeb5-47a0-b55a-1d7b0f80469a",
   "metadata": {
    "scrolled": true
   },
   "outputs": [],
   "source": [
    "torch.cuda.empty_cache()\n",
    "model = YOLO('yolov8n_project/tune_run_22/weights/best.pt')"
   ]
  },
  {
   "cell_type": "markdown",
   "id": "8e75790d-0ff6-424a-9799-e2ce1a603751",
   "metadata": {},
   "source": [
    "Реализуем класс для трекинга.\n",
    "\n",
    "Идея основывается на том, что мяч на поле должен быть всегда один. Основная проблема - модель обучена плохо и имеет низкий recall, тоесть очень часто пропукает мяч. \n",
    "\n",
    "Следить будем за несколькими объектами. Для каждой точки определяем, к какому уже известному отслеживаемому объекту она ближе всего. Если расстояние до всех объектов больше N, значит это новый объект. Если информации об известном объекте нет, то он дополняется нулями на текущей итерации. Объекты, которые не обновлялись (дополнялись нулями) дольше, чем K итераций, удаляются. Отрисовывается тот объект, у которого в последних M итерациях больше всего информации (меньше всего нулей). Отрисовывается последние T итераций."
   ]
  },
  {
   "cell_type": "code",
   "execution_count": 10,
   "id": "72a0703e-c12b-478d-8ded-5f8c8e33e00c",
   "metadata": {},
   "outputs": [],
   "source": [
    "class Tracker():\n",
    "    def __init__(self, pics_paths: List[str], model: Any, \n",
    "                 dist_threshold: int = 200, update_threshold: int = 10,\n",
    "                 compare_threshold: int = 10, num_show: int = 25):\n",
    "        \"\"\"Init Tracker instance.\n",
    "    \n",
    "        Args:\n",
    "            pics_paths (List[str]): path to pictures for tracking\n",
    "            model (Any): model for object detection\n",
    "            dist_threshold (int, optional): max distance for detection to belong to known track. Defaults to 200.\n",
    "            update_threshold (int, optional): num iter with no update to delete known track. Defaults to 10.\n",
    "            compare_threshold (int, optional): num iter to compare which track to draw. Defaults to 10.\n",
    "            num_show (int, optional): num iter to show. Defaults to 25.\n",
    "        \"\"\"\n",
    "        self.pics_paths = pics_paths\n",
    "        self.num_frames = len(pics_paths)\n",
    "        self.model = model\n",
    "\n",
    "        self.dist_threshold = dist_threshold\n",
    "        self.update_threshold = update_threshold\n",
    "        self.compare_threshold = compare_threshold\n",
    "        self.num_show = num_show\n",
    "\n",
    "        self.res_video_name = 'tracking.avi'\n",
    "        self.fourcc = cv2.VideoWriter_fourcc(*'mp4v')\n",
    "        self.reso = (1920, 1080)\n",
    "        self.fps = 25\n",
    "\n",
    "    def _detect(self, frame_num: int, conf: int = 0.1, iou: float = 0.7):\n",
    "        \"\"\"Perform detection on the image.\n",
    "\n",
    "        Args:\n",
    "            frame_num (int): number of current frame.\n",
    "            conf (int, optional): confidence score threshold. Defaults to 0.1.\n",
    "            iou (float, optional): IoU score threshold. Defaults to 0.7.\n",
    "        \"\"\"\n",
    "        detection = self.model.predict(self.pics_paths[frame_num], conf=conf, iou=iou, verbose=False)[0]\n",
    "        ann_frame = detection.plot()\n",
    "        result = {\n",
    "            'conf': detection.boxes.conf.cpu().numpy(),\n",
    "            'xywh': detection.boxes.xywh.cpu().numpy(),\n",
    "        }\n",
    "\n",
    "        return result, ann_frame\n",
    "\n",
    "    def track(self):\n",
    "        \"\"\"Track the ball\"\"\"\n",
    "\n",
    "        video = cv2.VideoWriter(self.res_video_name, self.fourcc, self.fps, self.reso)\n",
    "\n",
    "        # init list to store objects\n",
    "        objects = []\n",
    "\n",
    "        for i, frame in enumerate(self.pics_paths):\n",
    "\n",
    "            # get detection for current frame\n",
    "            boxes, ann_frame = self._detect(i)\n",
    "            if boxes['conf'].size > 0:\n",
    "                most_confident_idx = np.argmax(boxes['conf'])\n",
    "                xywh = boxes['xywh'][most_confident_idx]\n",
    "                coord_c = xywh[:2]\n",
    "\n",
    "                # if there is no known tracks\n",
    "                if not objects:\n",
    "                    objects.append(np.zeros((self.num_frames, 2), dtype=np.int32))\n",
    "                    objects[0][i] = coord_c\n",
    "\n",
    "                # if there is, compare by dist and append, or make new\n",
    "                else:\n",
    "                    min_dist = self.dist_threshold\n",
    "                    nearest_id = -1\n",
    "                    for id, pos in enumerate(objects):\n",
    "                        last_pos = np.max(np.nonzero(pos[:, 0]))\n",
    "                        dist = np.linalg.norm(coord_c - pos[last_pos])\n",
    "                        if dist < min_dist:\n",
    "                            min_dist = dist\n",
    "                            nearest_id = id\n",
    "\n",
    "                    if min_dist == self.dist_threshold:\n",
    "                        objects.append(np.zeros((self.num_frames, 2), dtype=np.int32))\n",
    "                        objects[-1][i] = coord_c\n",
    "\n",
    "                    elif nearest_id != -1:\n",
    "                        objects[nearest_id][i] = coord_c\n",
    "\n",
    "            \n",
    "            # delete objects that haven't been updated\n",
    "            to_delete = []\n",
    "            for id, pos in enumerate(objects):\n",
    "                if i >= self.update_threshold and not np.any(pos[i-self.update_threshold:i+1, :]):\n",
    "                    to_delete.append(id)\n",
    "\n",
    "            for id in to_delete:\n",
    "                objects.pop(id)\n",
    "\n",
    "            # decide which object to draw\n",
    "            pts_to_draw = None\n",
    "            last_n_check = i if i < self.compare_threshold else self.compare_threshold\n",
    "            last_n_draw = i if i < self.num_show else self.num_show\n",
    "            if len(objects) > 1:\n",
    "                min_last_frames = 0\n",
    "                for id, obj in enumerate(objects):\n",
    "                    last_frames = obj[i-last_n_check:i+1, :]\n",
    "                    nz_count = sum(np.all(last_frames, axis=1))\n",
    "                    if nz_count > min_last_frames:\n",
    "                        min_last_frames = nz_count\n",
    "                        pts_to_draw = obj[i-last_n_draw:i+1, :]\n",
    "\n",
    "            elif len(objects) == 1:\n",
    "                pts_to_draw = objects[-1][i-last_n_draw:i+1, :]\n",
    "\n",
    "            # draw objects\n",
    "            if pts_to_draw is not None:\n",
    "                # interpolate zeros for smoother trajectory\n",
    "                mask = np.where(~(pts_to_draw == 0))\n",
    "                interp = NearestNDInterpolator(np.transpose(mask), pts_to_draw[mask])\n",
    "                pts = interp(*np.indices(pts_to_draw.shape))\n",
    "                # draw poly\n",
    "                pts = pts.reshape((-1, 1, 2)).astype(np.int32)\n",
    "                ann_frame = cv2.polylines(ann_frame, [pts], isClosed=False, color=(255, 0, 0), thickness=10)\n",
    "\n",
    "            video.write(ann_frame)\n",
    "\n",
    "        cv2.destroyAllWindows()\n",
    "        video.release()            \n"
   ]
  },
  {
   "cell_type": "code",
   "execution_count": 11,
   "id": "74a6afca-726b-456d-b77f-cad37fb70cc0",
   "metadata": {
    "scrolled": true
   },
   "outputs": [],
   "source": [
    "t = Tracker(challenge_pics_paths[300:500], model)\n",
    "t.track()"
   ]
  },
  {
   "cell_type": "code",
   "execution_count": null,
   "id": "fa2a5476-03da-4cdf-85e5-8b28d47a21e2",
   "metadata": {},
   "outputs": [],
   "source": []
  }
 ],
 "metadata": {
  "kernelspec": {
   "display_name": "soccer_ball_tracking",
   "language": "python",
   "name": "soccer_ball_tracking"
  },
  "language_info": {
   "codemirror_mode": {
    "name": "ipython",
    "version": 3
   },
   "file_extension": ".py",
   "mimetype": "text/x-python",
   "name": "python",
   "nbconvert_exporter": "python",
   "pygments_lexer": "ipython3",
   "version": "3.10.12"
  }
 },
 "nbformat": 4,
 "nbformat_minor": 5
}
